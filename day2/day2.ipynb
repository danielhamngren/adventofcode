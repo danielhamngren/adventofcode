{
 "cells": [
  {
   "cell_type": "code",
   "execution_count": 28,
   "metadata": {},
   "outputs": [],
   "source": [
    "with open('input') as f:\n",
    "    lines = f.read().splitlines()"
   ]
  },
  {
   "cell_type": "markdown",
   "metadata": {},
   "source": [
    "# Part 1\n"
   ]
  },
  {
   "cell_type": "code",
   "execution_count": 25,
   "metadata": {},
   "outputs": [],
   "source": [
    "twos = 0\n",
    "threes = 0"
   ]
  },
  {
   "cell_type": "code",
   "execution_count": 26,
   "metadata": {},
   "outputs": [],
   "source": [
    "for line in lines:\n",
    "    occurances = [line.count(x) for x in line]\n",
    "    if 2 in occurances:\n",
    "        twos += 1\n",
    "    if 3 in occurances:\n",
    "        threes += 1\n"
   ]
  },
  {
   "cell_type": "code",
   "execution_count": 55,
   "metadata": {},
   "outputs": [
    {
     "name": "stdout",
     "output_type": "stream",
     "text": [
      "Answer: 4940\n"
     ]
    }
   ],
   "source": [
    "print('Answer:', twos * threes)"
   ]
  },
  {
   "cell_type": "markdown",
   "metadata": {},
   "source": [
    "# Part 2"
   ]
  },
  {
   "cell_type": "code",
   "execution_count": 50,
   "metadata": {},
   "outputs": [],
   "source": [
    "import itertools\n",
    "\n",
    "def differs_in_one_position(a, b):\n",
    "    diffs = [ord(x) - ord(y) for x, y in zip(a, b)]\n",
    "    element_is_different = [diff != 0 for diff in diffs]\n",
    "    return sum(element_is_different) == 1, element_is_different.index(True)\n"
   ]
  },
  {
   "cell_type": "code",
   "execution_count": 54,
   "metadata": {},
   "outputs": [
    {
     "name": "stdout",
     "output_type": "stream",
     "text": [
      "(True, 24)\n",
      "('wrziyfdmlumeqvaatbiosngkxc', 'wrziyfdmlumeqvaatbiosngkoc')\n",
      "Answer: wrziyfdmlumeqvaatbiosngkc\n"
     ]
    }
   ],
   "source": [
    "combinations = [x for x in itertools.combinations(lines, 2)]\n",
    "\n",
    "for combination in combinations:\n",
    "    result = differs_in_one_position(combination[0], combination[1])\n",
    "\n",
    "    if result[0]:\n",
    "        print(result)\n",
    "        print(combination)\n",
    "        \n",
    "        # remove differing letter\n",
    "        print('Answer:', combination[0].replace(combination[0][result[1]],''))"
   ]
  },
  {
   "cell_type": "code",
   "execution_count": 41,
   "metadata": {},
   "outputs": [],
   "source": [
    "\n",
    "    "
   ]
  },
  {
   "cell_type": "code",
   "execution_count": null,
   "metadata": {},
   "outputs": [],
   "source": []
  }
 ],
 "metadata": {
  "kernelspec": {
   "display_name": "Python 3",
   "language": "python",
   "name": "python3"
  },
  "language_info": {
   "codemirror_mode": {
    "name": "ipython",
    "version": 3
   },
   "file_extension": ".py",
   "mimetype": "text/x-python",
   "name": "python",
   "nbconvert_exporter": "python",
   "pygments_lexer": "ipython3",
   "version": "3.6.5"
  }
 },
 "nbformat": 4,
 "nbformat_minor": 2
}
