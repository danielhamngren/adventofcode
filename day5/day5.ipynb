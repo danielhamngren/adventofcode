{
 "cells": [
  {
   "cell_type": "code",
   "execution_count": 1,
   "metadata": {},
   "outputs": [],
   "source": [
    "with open('input.txt') as f:\n",
    "    lines = f.read().splitlines()\n",
    "    "
   ]
  },
  {
   "cell_type": "code",
   "execution_count": 3,
   "metadata": {},
   "outputs": [],
   "source": [
    "test = \"dabAcCaCBAcCcaDA\""
   ]
  },
  {
   "cell_type": "code",
   "execution_count": 30,
   "metadata": {},
   "outputs": [],
   "source": [
    "def react_step(inp):\n",
    "    units = [chr(c) + chr(c).lower() for c in range(65,91)] + \\\n",
    "        [chr(c).lower() + chr(c) for c in range(65,91)]\n",
    "    for unit in units:\n",
    "        inp = inp.replace(unit, '')\n",
    "    return inp"
   ]
  },
  {
   "cell_type": "code",
   "execution_count": 39,
   "metadata": {},
   "outputs": [
    {
     "name": "stdout",
     "output_type": "stream",
     "text": [
      "Answer: 11108\n"
     ]
    }
   ],
   "source": [
    "def run_full_reaction(data):\n",
    "\n",
    "    old_size = -1\n",
    "    new_size = -2\n",
    "\n",
    "    while old_size != new_size:\n",
    "        old_size = new_size\n",
    "        data = react_step(data)\n",
    "        new_size = len(data)\n",
    "        \n",
    "    return data\n",
    "\n",
    "    \n",
    "print('Answer:', len(run_full_reaction(lines[0])))"
   ]
  },
  {
   "cell_type": "markdown",
   "metadata": {},
   "source": [
    "# Part 2 "
   ]
  },
  {
   "cell_type": "code",
   "execution_count": 43,
   "metadata": {},
   "outputs": [
    {
     "name": "stdout",
     "output_type": "stream",
     "text": [
      "A 10602\n",
      "F 5094\n",
      "Answer: 5094\n"
     ]
    }
   ],
   "source": [
    "\n",
    "\n",
    "units = [chr(c) for c in range(65,91)]\n",
    "\n",
    "min_length = 99999999999\n",
    "min_unit = None\n",
    "for unit in units:\n",
    "    data = lines[0]\n",
    "    data = data.replace(unit, '')\n",
    "    data = data.replace(unit.lower(), '')\n",
    "    \n",
    "    result = run_full_reaction(data)\n",
    "    \n",
    "    if len(result) < min_length:\n",
    "        min_length = len(result)\n",
    "        min_unit = unit\n",
    "        print(min_unit, min_length)\n",
    "        \n",
    "print('Answer:', min_length)"
   ]
  },
  {
   "cell_type": "code",
   "execution_count": 29,
   "metadata": {},
   "outputs": [
    {
     "data": {
      "text/plain": [
       "['Aa',\n",
       " 'Bb',\n",
       " 'Cc',\n",
       " 'Dd',\n",
       " 'Ee',\n",
       " 'Ff',\n",
       " 'Gg',\n",
       " 'Hh',\n",
       " 'Ii',\n",
       " 'Jj',\n",
       " 'Kk',\n",
       " 'Ll',\n",
       " 'Mm',\n",
       " 'Nn',\n",
       " 'Oo',\n",
       " 'Pp',\n",
       " 'Qq',\n",
       " 'Rr',\n",
       " 'Ss',\n",
       " 'Tt',\n",
       " 'Uu',\n",
       " 'Vv',\n",
       " 'Ww',\n",
       " 'Xx',\n",
       " 'Yy',\n",
       " 'Zz',\n",
       " 'aA',\n",
       " 'bB',\n",
       " 'cC',\n",
       " 'dD',\n",
       " 'eE',\n",
       " 'fF',\n",
       " 'gG',\n",
       " 'hH',\n",
       " 'iI',\n",
       " 'jJ',\n",
       " 'kK',\n",
       " 'lL',\n",
       " 'mM',\n",
       " 'nN',\n",
       " 'oO',\n",
       " 'pP',\n",
       " 'qQ',\n",
       " 'rR',\n",
       " 'sS',\n",
       " 'tT',\n",
       " 'uU',\n",
       " 'vV',\n",
       " 'wW',\n",
       " 'xX',\n",
       " 'yY',\n",
       " 'zZ']"
      ]
     },
     "execution_count": 29,
     "metadata": {},
     "output_type": "execute_result"
    }
   ],
   "source": [
    "[chr(c) + chr(c).lower() for c in range(65,91)] + [chr(c).lower() + chr(c) for c in range(65,91)]"
   ]
  },
  {
   "cell_type": "code",
   "execution_count": 27,
   "metadata": {},
   "outputs": [
    {
     "data": {
      "text/plain": [
       "'a'"
      ]
     },
     "execution_count": 27,
     "metadata": {},
     "output_type": "execute_result"
    }
   ],
   "source": [
    "a.lower()"
   ]
  },
  {
   "cell_type": "code",
   "execution_count": null,
   "metadata": {},
   "outputs": [],
   "source": []
  },
  {
   "cell_type": "code",
   "execution_count": null,
   "metadata": {},
   "outputs": [],
   "source": []
  }
 ],
 "metadata": {
  "kernelspec": {
   "display_name": "Python 3",
   "language": "python",
   "name": "python3"
  },
  "language_info": {
   "codemirror_mode": {
    "name": "ipython",
    "version": 3
   },
   "file_extension": ".py",
   "mimetype": "text/x-python",
   "name": "python",
   "nbconvert_exporter": "python",
   "pygments_lexer": "ipython3",
   "version": "3.6.5"
  }
 },
 "nbformat": 4,
 "nbformat_minor": 2
}
