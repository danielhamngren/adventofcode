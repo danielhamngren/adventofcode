{
 "cells": [
  {
   "cell_type": "code",
   "execution_count": 3,
   "metadata": {},
   "outputs": [],
   "source": [
    "with open('input.txt') as f:\n",
    "    lines = f.read().splitlines()"
   ]
  },
  {
   "cell_type": "code",
   "execution_count": null,
   "metadata": {},
   "outputs": [],
   "source": [
    "#1 @ 1,3: 4x4\n",
    "#2 @ 3,1: 4x4\n",
    "#3 @ 5,5: 2x2"
   ]
  },
  {
   "cell_type": "markdown",
   "metadata": {},
   "source": [
    "# Part 1"
   ]
  },
  {
   "cell_type": "code",
   "execution_count": 19,
   "metadata": {},
   "outputs": [],
   "source": [
    "def create_coordinate_tuples(x, y, width, height, claim_id):\n",
    "    tups = []\n",
    "    for a in range(x, x + width):\n",
    "        for b in range(y, y + height):\n",
    "            tups.append((a, b))\n",
    "    return tups"
   ]
  },
  {
   "cell_type": "code",
   "execution_count": 18,
   "metadata": {},
   "outputs": [],
   "source": [
    "def parse_line(line):\n",
    "    claim_id = line.split('@')[0]\n",
    "    suffix_string = line.split('@')[1]\n",
    "    suffixes = suffix_string.split(':')\n",
    "    \n",
    "    x, y = suffixes[0].split(',')\n",
    "    \n",
    "    width, height = suffixes[1].split('x')\n",
    "    \n",
    "    return int(x), int(y), int(width), int(height), claim_id"
   ]
  },
  {
   "cell_type": "code",
   "execution_count": null,
   "metadata": {},
   "outputs": [],
   "source": []
  },
  {
   "cell_type": "code",
   "execution_count": 21,
   "metadata": {},
   "outputs": [],
   "source": [
    "coord_dict = {}\n",
    "\n",
    "for line in lines:\n",
    "    nums = parse_line(line)\n",
    "    coordinates = create_coordinate_tuples(*nums)\n",
    "    \n",
    "    for coord in coordinates:\n",
    "        if coord in coord_dict:\n",
    "            coord_dict[coord] += 1\n",
    "        else:\n",
    "            coord_dict[coord] = 1"
   ]
  },
  {
   "cell_type": "code",
   "execution_count": 17,
   "metadata": {},
   "outputs": [
    {
     "name": "stdout",
     "output_type": "stream",
     "text": [
      "Answer: 105071\n"
     ]
    }
   ],
   "source": [
    "counter = 0\n",
    "for key, value in coord_dict.items():\n",
    "    if value > 1:\n",
    "        counter += 1\n",
    "        \n",
    "print(\"Answer:\", counter)"
   ]
  },
  {
   "cell_type": "markdown",
   "metadata": {},
   "source": [
    "# Part 2"
   ]
  },
  {
   "cell_type": "code",
   "execution_count": 25,
   "metadata": {},
   "outputs": [
    {
     "name": "stdout",
     "output_type": "stream",
     "text": [
      "Answer (True, '#222')\n"
     ]
    }
   ],
   "source": [
    "def check_if_claim_overlaps(line):\n",
    "    nums = parse_line(line)\n",
    "    claim_id = nums[4]\n",
    "    \n",
    "    for coord in create_coordinate_tuples(*nums):\n",
    "        if coord_dict[coord] > 1:\n",
    "            return False, claim_id\n",
    "    return True, claim_id.strip()\n",
    "\n",
    "for line in lines:\n",
    "    result = check_if_claim_overlaps(line)\n",
    "    if not result[0]:\n",
    "        continue\n",
    "    else:\n",
    "        print('Answer', result)\n",
    "            "
   ]
  },
  {
   "cell_type": "code",
   "execution_count": null,
   "metadata": {},
   "outputs": [],
   "source": []
  }
 ],
 "metadata": {
  "kernelspec": {
   "display_name": "Python 3",
   "language": "python",
   "name": "python3"
  },
  "language_info": {
   "codemirror_mode": {
    "name": "ipython",
    "version": 3
   },
   "file_extension": ".py",
   "mimetype": "text/x-python",
   "name": "python",
   "nbconvert_exporter": "python",
   "pygments_lexer": "ipython3",
   "version": "3.6.5"
  }
 },
 "nbformat": 4,
 "nbformat_minor": 2
}
