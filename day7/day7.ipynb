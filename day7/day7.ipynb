{
 "cells": [
  {
   "cell_type": "code",
   "execution_count": 63,
   "metadata": {},
   "outputs": [],
   "source": [
    "with open('input.txt') as f:\n",
    "    lines = f.read().splitlines()\n",
    "    \n",
    "# lines = ['Step C must be finished before step A can begin.',\n",
    "# 'Step C must be finished before step F can begin.',\n",
    "# 'Step A must be finished before step B can begin.',\n",
    "# 'Step A must be finished before step D can begin.',\n",
    "# 'Step B must be finished before step E can begin.',\n",
    "# 'Step D must be finished before step E can begin.',\n",
    "# 'Step F must be finished before step E can begin.']   \n",
    "    \n",
    "    \n",
    "import re \n",
    "\n",
    "edges = []\n",
    "\n",
    "for line in lines:\n",
    "    _, x, y = re.findall(r'[A-Z]', line)\n",
    "    edges.append((x, y))"
   ]
  },
  {
   "cell_type": "code",
   "execution_count": 64,
   "metadata": {},
   "outputs": [
    {
     "name": "stdout",
     "output_type": "stream",
     "text": [
      "Answer: JMQZELVYXTIGPHFNSOADKWBRUC\n"
     ]
    }
   ],
   "source": [
    "all_nodes = set()\n",
    "\n",
    "for edge in edges:\n",
    "    all_nodes.add(edge[0])\n",
    "    all_nodes.add(edge[1])\n",
    "\n",
    "\n",
    "def get_posseble_nodes(edges):\n",
    "    post_edges = set()\n",
    "    pre_edges = set()\n",
    "    \n",
    "    for edge in edges:\n",
    "        pre_edges.add(edge[0])\n",
    "        post_edges.add(edge[1])\n",
    "        \n",
    "    return sorted([x for x in pre_edges - post_edges])  \n",
    "\n",
    "node_order = []\n",
    "\n",
    "while len(edges) > 0:\n",
    "    next_nodes = get_posseble_nodes(edges)\n",
    "    node_order.extend(next_nodes[0])\n",
    "    \n",
    "    if(len(edges) == 1):\n",
    "        node_order.extend(edges[0][1])\n",
    "    edges = [x for x in edges if (x[0] not in node_order)]\n",
    "\n",
    "print('Answer:', ''.join(node_order))"
   ]
  },
  {
   "cell_type": "code",
   "execution_count": 19,
   "metadata": {},
   "outputs": [
    {
     "data": {
      "text/plain": [
       "['J', 'M', 'Z']"
      ]
     },
     "execution_count": 19,
     "metadata": {},
     "output_type": "execute_result"
    }
   ],
   "source": [
    "# Step Z must be finished before step V can begin.\n",
    "# Step V must be finished before step K can begin.\n",
    "# Step M must be finished before step Q can begin.\n",
    "# Step E must be finished before step X can begin.\n",
    "\n",
    "sorted([x for x in pre_edges - post_edges])"
   ]
  },
  {
   "cell_type": "code",
   "execution_count": 15,
   "metadata": {},
   "outputs": [
    {
     "data": {
      "text/plain": [
       "[('Z', 'V'),\n",
       " ('V', 'K'),\n",
       " ('M', 'Q'),\n",
       " ('E', 'X'),\n",
       " ('J', 'W'),\n",
       " ('L', 'O'),\n",
       " ('Q', 'T'),\n",
       " ('Y', 'P'),\n",
       " ('X', 'R'),\n",
       " ('T', 'U'),\n",
       " ('I', 'O'),\n",
       " ('P', 'H'),\n",
       " ('G', 'A'),\n",
       " ('N', 'A'),\n",
       " ('H', 'B'),\n",
       " ('F', 'D'),\n",
       " ('S', 'O'),\n",
       " ('O', 'W'),\n",
       " ('D', 'U'),\n",
       " ('W', 'B'),\n",
       " ('A', 'K'),\n",
       " ('B', 'R'),\n",
       " ('K', 'C'),\n",
       " ('R', 'C'),\n",
       " ('U', 'C'),\n",
       " ('A', 'U'),\n",
       " ('J', 'I'),\n",
       " ('D', 'K'),\n",
       " ('V', 'S'),\n",
       " ('H', 'C'),\n",
       " ('R', 'U'),\n",
       " ('I', 'G'),\n",
       " ('D', 'R'),\n",
       " ('M', 'B'),\n",
       " ('G', 'R'),\n",
       " ('M', 'I'),\n",
       " ('G', 'N'),\n",
       " ('M', 'N'),\n",
       " ('Q', 'S'),\n",
       " ('I', 'S'),\n",
       " ('J', 'R'),\n",
       " ('O', 'B'),\n",
       " ('G', 'S'),\n",
       " ('J', 'C'),\n",
       " ('M', 'D'),\n",
       " ('T', 'H'),\n",
       " ('P', 'N'),\n",
       " ('S', 'K'),\n",
       " ('T', 'C'),\n",
       " ('J', 'A'),\n",
       " ('G', 'F'),\n",
       " ('N', 'R'),\n",
       " ('N', 'W'),\n",
       " ('T', 'I'),\n",
       " ('S', 'B'),\n",
       " ('H', 'F'),\n",
       " ('B', 'C'),\n",
       " ('L', 'W'),\n",
       " ('N', 'O'),\n",
       " ('O', 'A'),\n",
       " ('H', 'S'),\n",
       " ('F', 'A'),\n",
       " ('F', 'C'),\n",
       " ('M', 'A'),\n",
       " ('Z', 'H'),\n",
       " ('Z', 'L'),\n",
       " ('E', 'H'),\n",
       " ('X', 'T'),\n",
       " ('Y', 'X'),\n",
       " ('E', 'W'),\n",
       " ('P', 'R'),\n",
       " ('Z', 'E'),\n",
       " ('W', 'C'),\n",
       " ('I', 'P'),\n",
       " ('X', 'A'),\n",
       " ('Y', 'C'),\n",
       " ('I', 'F'),\n",
       " ('L', 'T'),\n",
       " ('A', 'B'),\n",
       " ('F', 'W'),\n",
       " ('T', 'R'),\n",
       " ('X', 'F'),\n",
       " ('M', 'O'),\n",
       " ('N', 'K'),\n",
       " ('T', 'S'),\n",
       " ('J', 'N'),\n",
       " ('J', 'S'),\n",
       " ('O', 'D'),\n",
       " ('T', 'P'),\n",
       " ('Z', 'D'),\n",
       " ('L', 'X'),\n",
       " ('Q', 'G'),\n",
       " ('M', 'G'),\n",
       " ('P', 'W'),\n",
       " ('V', 'P'),\n",
       " ('D', 'B'),\n",
       " ('Y', 'D'),\n",
       " ('X', 'S'),\n",
       " ('K', 'U'),\n",
       " ('Z', 'Y'),\n",
       " ('D', 'W')]"
      ]
     },
     "execution_count": 15,
     "metadata": {},
     "output_type": "execute_result"
    }
   ],
   "source": [
    "edges"
   ]
  },
  {
   "cell_type": "code",
   "execution_count": null,
   "metadata": {},
   "outputs": [],
   "source": []
  }
 ],
 "metadata": {
  "kernelspec": {
   "display_name": "Python 3",
   "language": "python",
   "name": "python3"
  },
  "language_info": {
   "codemirror_mode": {
    "name": "ipython",
    "version": 3
   },
   "file_extension": ".py",
   "mimetype": "text/x-python",
   "name": "python",
   "nbconvert_exporter": "python",
   "pygments_lexer": "ipython3",
   "version": "3.6.5"
  }
 },
 "nbformat": 4,
 "nbformat_minor": 2
}
