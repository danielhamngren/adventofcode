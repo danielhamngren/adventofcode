{
 "cells": [
  {
   "cell_type": "code",
   "execution_count": 75,
   "metadata": {},
   "outputs": [],
   "source": [
    "with open('input.txt') as f:\n",
    "    lines = f.read().splitlines()\n",
    "    \n",
    "# lines = ['1, 1',\n",
    "# '1, 6',\n",
    "# '8, 3',\n",
    "# '3, 4',\n",
    "# '5, 5\n",
    "# '8, 9']"
   ]
  },
  {
   "cell_type": "code",
   "execution_count": 76,
   "metadata": {},
   "outputs": [],
   "source": [
    "import re \n",
    "\n",
    "coords = []\n",
    "\n",
    "for line in lines:\n",
    "    x, y = re.findall(r'\\d+', line)\n",
    "    coords.append((int(x), int(y)))"
   ]
  },
  {
   "cell_type": "code",
   "execution_count": 77,
   "metadata": {},
   "outputs": [],
   "source": [
    "max_x = max([coord[0] for coord in coords])\n",
    "max_y = max([coord[1] for coord in coords])"
   ]
  },
  {
   "cell_type": "code",
   "execution_count": 78,
   "metadata": {},
   "outputs": [
    {
     "data": {
      "text/plain": [
       "(358, 359)"
      ]
     },
     "execution_count": 78,
     "metadata": {},
     "output_type": "execute_result"
    }
   ],
   "source": [
    "max_x, max_y"
   ]
  },
  {
   "cell_type": "code",
   "execution_count": 79,
   "metadata": {},
   "outputs": [
    {
     "data": {
      "text/plain": [
       "128522"
      ]
     },
     "execution_count": 79,
     "metadata": {},
     "output_type": "execute_result"
    }
   ],
   "source": [
    "max_x * max_y"
   ]
  },
  {
   "cell_type": "code",
   "execution_count": 80,
   "metadata": {},
   "outputs": [],
   "source": [
    "\n",
    "points = {}\n",
    "\n",
    "for x in range(max_x + 1):\n",
    "    for y in range(max_y + 1):\n",
    "        min_distance = max_y + max_y + 2\n",
    "        nearest_point = None\n",
    "        \n",
    "        distances = {coord:manhattan((x,y), coord) for coord in coords}\n",
    "        nearest_point = min(distances, key=distances.get)\n",
    "        min_dist = distances[nearest_point]\n",
    "\n",
    "        if len([x for x in distances.values() if x == min_dist]) > 1:\n",
    "            continue\n",
    "        \n",
    "        points[(x, y)] = nearest_point\n",
    "        "
   ]
  },
  {
   "cell_type": "code",
   "execution_count": 24,
   "metadata": {},
   "outputs": [],
   "source": [
    "def manhattan(p1, p2):\n",
    "    return abs(p1[0] - p2[0]) + abs(p1[1] - p2[1])"
   ]
  },
  {
   "cell_type": "code",
   "execution_count": 95,
   "metadata": {},
   "outputs": [
    {
     "name": "stdout",
     "output_type": "stream",
     "text": [
      "{(72, 281), (278, 98), (135, 352), (81, 252), (50, 200), (256, 346), (75, 157), (312, 141), (87, 122), (50, 306), (167, 342), (311, 83), (281, 177), (327, 312), (58, 325), (289, 189), (140, 119), (93, 101), (97, 354), (330, 356), (79, 66), (340, 344), (206, 89), (281, 359), (322, 320), (247, 123), (358, 270)}\n"
     ]
    }
   ],
   "source": [
    "# identify border points\n",
    "border_coords = set()\n",
    "\n",
    "filtered_coords = []\n",
    "\n",
    "for key, value in points.items():\n",
    "    if key[0] == 0 or key[0] == max_x or key[1] == 0 or key[1] == max_y:\n",
    "        border_coords.add(value)\n",
    "        \n",
    "for value in points.values():\n",
    "    if value in border_coords:\n",
    "        continue\n",
    "    filtered_coords.append(value)\n",
    "        \n",
    "print(border_coords)"
   ]
  },
  {
   "cell_type": "code",
   "execution_count": 96,
   "metadata": {},
   "outputs": [
    {
     "name": "stdout",
     "output_type": "stream",
     "text": [
      "{(67, 186): 1570, (67, 314): 1202, (91, 231): 1292, (101, 249): 1594, (97, 126): 392, (128, 209): 2127, (112, 235): 983, (108, 127): 735, (127, 140): 1642, (170, 307): 2540, (134, 132): 580, (166, 192): 3620, (178, 248): 3363, (193, 113): 1822, (216, 145): 3135, (192, 303): 2319, (231, 263): 2945, (260, 221): 3470, (251, 337): 1638, (276, 304): 2206, (289, 264): 2911, (296, 145): 1396, (352, 265): 2697}\n"
     ]
    }
   ],
   "source": [
    "count_coords = {}\n",
    "for coord in filtered_coords:\n",
    "    if coord in count_coords:\n",
    "        count_coords[coord] += 1\n",
    "    else:\n",
    "        count_coords[coord] = 1\n",
    "\n",
    "print(count_coords)"
   ]
  },
  {
   "cell_type": "code",
   "execution_count": 97,
   "metadata": {},
   "outputs": [
    {
     "name": "stdout",
     "output_type": "stream",
     "text": [
      "Answer: 3620\n"
     ]
    }
   ],
   "source": [
    "print('Answer:', max(count_coords.values()))"
   ]
  },
  {
   "cell_type": "markdown",
   "metadata": {},
   "source": [
    "# Part2"
   ]
  },
  {
   "cell_type": "code",
   "execution_count": 98,
   "metadata": {},
   "outputs": [],
   "source": [
    "points = {}\n",
    "\n",
    "for x in range(max_x + 1):\n",
    "    for y in range(max_y + 1):\n",
    "        min_distance = max_y + max_y + 2\n",
    "        nearest_point = None\n",
    "        \n",
    "        sum_manhattan = sum([manhattan((x,y), coord) for coord in coords])\n",
    "        \n",
    "        points[(x, y)] = sum_manhattan"
   ]
  },
  {
   "cell_type": "code",
   "execution_count": 104,
   "metadata": {},
   "outputs": [
    {
     "name": "stdout",
     "output_type": "stream",
     "text": [
      "Answer: 39930\n"
     ]
    }
   ],
   "source": [
    "print('Answer:', len([x for x in points.values() if x < 10000]))"
   ]
  },
  {
   "cell_type": "code",
   "execution_count": null,
   "metadata": {},
   "outputs": [],
   "source": []
  }
 ],
 "metadata": {
  "kernelspec": {
   "display_name": "Python 3",
   "language": "python",
   "name": "python3"
  },
  "language_info": {
   "codemirror_mode": {
    "name": "ipython",
    "version": 3
   },
   "file_extension": ".py",
   "mimetype": "text/x-python",
   "name": "python",
   "nbconvert_exporter": "python",
   "pygments_lexer": "ipython3",
   "version": "3.6.5"
  }
 },
 "nbformat": 4,
 "nbformat_minor": 2
}
